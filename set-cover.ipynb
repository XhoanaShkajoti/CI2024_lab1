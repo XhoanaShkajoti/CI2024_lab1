{
 "cells": [
  {
   "cell_type": "markdown",
   "metadata": {},
   "source": [
    "Copyright **`(c)`** 2024 Giovanni Squillero `<giovanni.squillero@polito.it>`  \n",
    "[`https://github.com/squillero/computational-intelligence`](https://github.com/squillero/computational-intelligence)  \n",
    "Free for personal or classroom use; see [`LICENSE.md`](https://github.com/squillero/computational-intelligence/blob/master/LICENSE.md) for details.  "
   ]
  },
  {
   "cell_type": "markdown",
   "metadata": {},
   "source": [
    "# Set Cover problem\n",
    "\n",
    "See: https://en.wikipedia.org/wiki/Set_cover_problem"
   ]
  },
  {
   "cell_type": "code",
   "execution_count": 57,
   "metadata": {},
   "outputs": [],
   "source": [
    "from random import random, seed\n",
    "from itertools import product\n",
    "import numpy as np\n",
    "from tqdm.auto import tqdm\n",
    "from matplotlib import pyplot as plt\n",
    "\n",
    "from icecream import ic"
   ]
  },
  {
   "cell_type": "markdown",
   "metadata": {},
   "source": [
    "## Reproducible Initialization\n",
    "\n",
    "If you want to get reproducible results, set `REPRODUCIBILIY` to `True`"
   ]
  },
  {
   "cell_type": "code",
   "execution_count": 58,
   "metadata": {},
   "outputs": [],
   "source": [
    "# Instance 1\n",
    "#UNIVERSE_SIZE = 100\n",
    "#NUM_SETS = 10\n",
    "#DENSITY = 0.2\n",
    "\n",
    "# Instance 2\n",
    "#UNIVERSE_SIZE = 1_000\n",
    "#NUM_SETS = 100\n",
    "#DENSITY = 0.2\n",
    "\n",
    "#Instance 3\n",
    "UNIVERSE_SIZE = 10_000\n",
    "NUM_SETS = 1000\n",
    "DENSITY = 0.2\n",
    "\n",
    "#Instance 4\n",
    "#UNIVERSE_SIZE = 100_000\n",
    "#NUM_SETS = 10_000\n",
    "#DENSITY = 0.1\n",
    "\n",
    "#Instance 5\n",
    "# UNIVERSE_SIZE = 100_000\n",
    "# NUM_SETS = 10_000\n",
    "# DENSITY = 0.2\n",
    "\n",
    "# Instance 6\n",
    "# UNIVERSE_SIZE = 100_000\n",
    "# NUM_SETS = 10_000\n",
    "# DENSITY = 0.3\n",
    "\n",
    "N_STEPS = 5000\n",
    "\n",
    "#Settings\n",
    "REPRODUCIBILIY = False\n",
    "\n",
    "\n",
    "\n",
    "rng = np.random.Generator(np.random.PCG64([UNIVERSE_SIZE, NUM_SETS, int(10_000 * DENSITY)]))\n",
    "if REPRODUCIBILIY:\n",
    "    random_gen = rng\n",
    "else:\n",
    "    random_gen = np.random\n",
    "\n"
   ]
  },
  {
   "cell_type": "code",
   "execution_count": 59,
   "metadata": {},
   "outputs": [],
   "source": [
    "# DON'T EDIT THESE LINES!\n",
    "SETS = random_gen.random((NUM_SETS, UNIVERSE_SIZE)) < DENSITY\n",
    "for s in range(UNIVERSE_SIZE):\n",
    "    if not np.any(SETS[:, s]):\n",
    "        if REPRODUCIBILIY:\n",
    "            SETS[random_gen.integers(NUM_SETS), s] = True\n",
    "        else:\n",
    "            SETS[random_gen.randint(NUM_SETS), s] = True\n",
    "COSTS = np.pow(SETS.sum(axis=1), 1.1)\n",
    "\n",
    "# Define the universe (set of required elements)\n",
    "universe = set(range(UNIVERSE_SIZE))  # Set of all required elements"
   ]
  },
  {
   "cell_type": "markdown",
   "metadata": {},
   "source": [
    "## Helper Functions"
   ]
  },
  {
   "cell_type": "code",
   "execution_count": 60,
   "metadata": {},
   "outputs": [],
   "source": [
    "def valid(solution):\n",
    "    \"\"\"Checks wether solution is valid (ie. covers all universe)\"\"\"\n",
    "    phenotype = np.logical_or.reduce(SETS[solution])\n",
    "    return np.all(phenotype)\n",
    "\n",
    "\n",
    "def cost(solution):\n",
    "    \"\"\"Returns the cost of a solution (to be minimized)\"\"\"\n",
    "    return COSTS[solution].sum()"
   ]
  },
  {
   "cell_type": "markdown",
   "metadata": {},
   "source": [
    "Solution"
   ]
  },
  {
   "cell_type": "code",
   "execution_count": 61,
   "metadata": {},
   "outputs": [],
   "source": [
    "def tweak(solution:np.ndarray)->np.ndarray:\n",
    "    new_sol = solution.copy()\n",
    "    i = rng.integers(0,NUM_SETS)\n",
    "    new_sol[i] = not new_sol[i]\n",
    "    return new_sol"
   ]
  },
  {
   "cell_type": "code",
   "execution_count": 62,
   "metadata": {},
   "outputs": [],
   "source": [
    "def fitness(solution:np.ndarray):\n",
    "    return (valid(solution),-cost(solution))"
   ]
  },
  {
   "cell_type": "code",
   "execution_count": 63,
   "metadata": {},
   "outputs": [],
   "source": [
    "# Define the simulated annealing function\n",
    "used_simulated_annealing=0\n",
    "def simulated_annealing(f_cur_sol: np.ndarray, f_tweaked_sol: np.ndarray, temperature: np.float64) -> np.float64:\n",
    "    worse_p = np.exp((f_tweaked_sol[1] - f_cur_sol[1]) / temperature)  # Use cost for decision\n",
    "    is_accept = random_gen.random() <= worse_p\n",
    "    if is_accept:\n",
    "        global used_simulated_annealing\n",
    "        used_simulated_annealing+=1\n",
    "    return is_accept\n",
    "\n",
    "\n",
    "def multiple_mutation_tweak(solution:np.ndarray)->np.ndarray:\n",
    "    for _ in range(5):\n",
    "        mask = rng.random(NUM_SETS) < 0.005 ## 0.5% of the elements will be flipped\n",
    "        new_sol = np.logical_xor(solution,mask)\n",
    "        if valid(new_sol):\n",
    "            return new_sol\n",
    "    return new_sol\n"
   ]
  },
  {
   "cell_type": "markdown",
   "metadata": {},
   "source": [
    "## Hill Climbing with simulated annealing and multi tweaks\n",
    "Gives priority to improving the current solution, accepts worse solutions (simulated annealing) as temperature increases. It also uses multi tweaks.\n",
    "Since the last test instances (with 5000 steps) keep improving the current solution, the probability of using simulated annealing  is low."
   ]
  },
  {
   "cell_type": "code",
   "execution_count": 64,
   "metadata": {},
   "outputs": [
    {
     "data": {
      "application/vnd.jupyter.widget-view+json": {
       "model_id": "564f9d07603544cba05858bc58528a0f",
       "version_major": 2,
       "version_minor": 0
      },
      "text/plain": [
       "  0%|          | 0/5000 [00:00<?, ?it/s]"
      ]
     },
     "metadata": {},
     "output_type": "display_data"
    },
    {
     "name": "stderr",
     "output_type": "stream",
     "text": [
      "ic| \"Best solution found:\": 'Best solution found:'\n",
      "    best_solution: (np.True_, np.float64(-430290.3817637625))\n",
      "ic| history.index(best_solution): 4970\n",
      "    best_solution: (np.True_, np.float64(-430290.3817637625))\n"
     ]
    },
    {
     "name": "stdout",
     "output_type": "stream",
     "text": [
      "Accepted worse solution (simulated annealing): 107 times\n"
     ]
    },
    {
     "data": {
      "image/png": "[encoded data removed]",
      "text/plain": [
       "<Figure size 1400x800 with 1 Axes>"
      ]
     },
     "metadata": {},
     "output_type": "display_data"
    }
   ],
   "source": [
    "# Initialize variables\n",
    "used_simulated_annealing = 0\n",
    "solution = rng.random(NUM_SETS) < 1 #Start with a valid solution (edge case first configurations)\n",
    "solution_fitness = fitness(solution)\n",
    "history = [solution_fitness] if solution_fitness[0] else []\n",
    "best_solution = solution_fitness\n",
    "STARTING_VALUE_TEMP = 1 \n",
    "temperature = STARTING_VALUE_TEMP\n",
    "\n",
    "\n",
    "INC_VALUE = 20\n",
    "\n",
    "# Simulated annealing loop\n",
    "ic.disable()\n",
    "for steps in tqdm(range(N_STEPS)):\n",
    "    new_solution = multiple_mutation_tweak(solution)  # Use multiple_tweak\n",
    "    f_newsol = fitness(new_solution)\n",
    "    history.append(f_newsol)\n",
    "\n",
    "    if (f_newsol > solution_fitness) or ( f_newsol[0] and simulated_annealing(solution_fitness,f_newsol,temperature)) :  # Only accept if the solution is better or simulated annealing (since first solution is valid no need to check for validity)\n",
    "        ic(\"accepted\", f_newsol)\n",
    "        solution = new_solution\n",
    "        if (best_solution[1] < f_newsol[1]):\n",
    "            best_solution = f_newsol\n",
    "        solution_fitness = fitness(solution)\n",
    "        temperature = STARTING_VALUE_TEMP  # Reset temperature\n",
    "    else:\n",
    "        # Here we would handle what to do if the new solution is invalid\n",
    "        # Since we only accept valid solutions, we can ignore this case for now.\n",
    "        temperature += INC_VALUE  # Increase temperature if not accepted\n",
    "\n",
    "ic.enable()\n",
    "print(\"Accepted worse solution (simulated annealing):\", used_simulated_annealing, \"times\")\n",
    "ic(\"Best solution found:\", best_solution)\n",
    "ic(history.index(best_solution),best_solution)\n",
    "\n",
    "\n",
    "# Plotting the results\n",
    "plt.figure(figsize=(14, 8))\n",
    "plt.plot(\n",
    "    range(len(history)),\n",
    "    [max(history[:i + 1], key=lambda x: x[1])[1] for i in range(len(history))],\n",
    "    color=\"red\",\n",
    ")\n",
    "plt.scatter(range(len(history)), [value for _, value in history], marker=\".\")\n",
    "plt.show()\n",
    "\n"
   ]
  }
 ],
 "metadata": {
  "kernelspec": {
   "display_name": "poetry-env",
   "language": "python",
   "name": "python3"
  },
  "language_info": {
   "codemirror_mode": {
    "name": "ipython",
    "version": 3
   },
   "file_extension": ".py",
   "mimetype": "text/x-python",
   "name": "python",
   "nbconvert_exporter": "python",
   "pygments_lexer": "ipython3",
   "version": "3.12.7"
  }
 },
 "nbformat": 4,
 "nbformat_minor": 4
}
